{
 "cells": [
  {
   "cell_type": "markdown",
   "id": "390eff43",
   "metadata": {},
   "source": [
    "## 1.In the below elements which of them are values or an expression? eg:- values can be integer or string and expressions will be mathematical operators. * 'hello' -87.8 - / + 6"
   ]
  },
  {
   "cell_type": "markdown",
   "id": "53117b5a",
   "metadata": {},
   "source": [
    "ans: In the given list, the values are: 'hello'(string) -87.8 (floating-point number) 6 (integer) The expressions are: (multiplication operator) (subtraction operator) / (division operator) (addition operator)"
   ]
  },
  {
   "cell_type": "markdown",
   "id": "9d0293e3",
   "metadata": {},
   "source": [
    "## 2.What is the difference between string and variable?"
   ]
  },
  {
   "cell_type": "markdown",
   "id": "57bd3562",
   "metadata": {},
   "source": [
    "ans: String: a string is a data type used to represent a sequence of characters in inverted commas\n",
    "Variable: A variable is a name given to the data type in programming"
   ]
  },
  {
   "cell_type": "markdown",
   "id": "b1bd3874",
   "metadata": {},
   "source": [
    "## 3. Describe three different data types."
   ]
  },
  {
   "cell_type": "markdown",
   "id": "f0a65409",
   "metadata": {},
   "source": [
    "ans: int--It is used to represent numbers \n",
    "     Float-- It is used to represent decimal values\n",
    "     String--It is used to represent a sequence of characters"
   ]
  },
  {
   "cell_type": "markdown",
   "id": "4ee2e774",
   "metadata": {},
   "source": [
    "## 4. What is an expression made up of? What do all expressions do?"
   ]
  },
  {
   "cell_type": "markdown",
   "id": "11db8f6f",
   "metadata": {},
   "source": [
    "ans: An expression contains combination of operators and values or variables. \n",
    "Expression compute the data as per the given operators and their sequence"
   ]
  },
  {
   "cell_type": "markdown",
   "id": "fd0aa327",
   "metadata": {},
   "source": [
    "## 5. This assignment statements, like spam = 10. What is the difference between an expression and a statement?"
   ]
  },
  {
   "cell_type": "markdown",
   "id": "f7bf97c7",
   "metadata": {},
   "source": [
    "ans: The difference between an expression and a statement is : An expression evaluates to the values, whereas a statement performs an action or controls the flow of the program."
   ]
  },
  {
   "cell_type": "markdown",
   "id": "6418111a",
   "metadata": {},
   "source": [
    "## 6. After running the following code, what does the variable bacon contain?                      bacon = 22                                                                                                                                      bacon + 1"
   ]
  },
  {
   "cell_type": "code",
   "execution_count": 1,
   "id": "7130fdb0",
   "metadata": {},
   "outputs": [
    {
     "data": {
      "text/plain": [
       "23"
      ]
     },
     "execution_count": 1,
     "metadata": {},
     "output_type": "execute_result"
    }
   ],
   "source": [
    "bacon = 22\n",
    "bacon + 1"
   ]
  },
  {
   "cell_type": "markdown",
   "id": "6cbab32e",
   "metadata": {},
   "source": [
    "## 7. What should the values of the following two terms be?         'spam'+'spamspam'                    'spam'* 3"
   ]
  },
  {
   "cell_type": "code",
   "execution_count": 3,
   "id": "78d76378",
   "metadata": {},
   "outputs": [
    {
     "data": {
      "text/plain": [
       "'spamspamspam'"
      ]
     },
     "execution_count": 3,
     "metadata": {},
     "output_type": "execute_result"
    }
   ],
   "source": [
    "'spam'+'spamspam' "
   ]
  },
  {
   "cell_type": "code",
   "execution_count": 4,
   "id": "0572a499",
   "metadata": {},
   "outputs": [
    {
     "data": {
      "text/plain": [
       "'spamspamspam'"
      ]
     },
     "execution_count": 4,
     "metadata": {},
     "output_type": "execute_result"
    }
   ],
   "source": [
    "'spam'* 3"
   ]
  },
  {
   "cell_type": "markdown",
   "id": "b1aacc26",
   "metadata": {},
   "source": [
    "## 8. Why is eggs a valid variable name while 100 is invalid?"
   ]
  },
  {
   "cell_type": "markdown",
   "id": "a3b939be",
   "metadata": {},
   "source": [
    "ans: According to variable rules: a variable can be start with letters or underscore A variable cannot be start with numbers or any special characters Therefore eggs is a valid variable where as 100 is not a valid variable"
   ]
  },
  {
   "cell_type": "markdown",
   "id": "9144156b",
   "metadata": {},
   "source": [
    "## 9. What three functions can be used to get the integer, floating-point number, or string version of a value?"
   ]
  },
  {
   "cell_type": "code",
   "execution_count": 5,
   "id": "72452d74",
   "metadata": {},
   "outputs": [
    {
     "name": "stdout",
     "output_type": "stream",
     "text": [
      "55\n",
      "5.0\n",
      "94\n",
      "<class 'str'>\n"
     ]
    }
   ],
   "source": [
    "#int()==> converts float and numbered strings into integers\n",
    "a=\"55\"\n",
    "print(int(a))\n",
    "#float()==> converts integers into floating numbers\n",
    "x=5\n",
    "print(float(x))\n",
    "#str()==> It converts any datatypes into Strings\n",
    "s=str(94)\n",
    "print(s)\n",
    "print(type(s))\n"
   ]
  },
  {
   "cell_type": "markdown",
   "id": "11b4e48f",
   "metadata": {},
   "source": [
    "## 10. Why does this expression cause an error? How can you fix it 'I have eaten'+ 99 +'burritos'"
   ]
  },
  {
   "cell_type": "code",
   "execution_count": 12,
   "id": "7cbe0afe",
   "metadata": {},
   "outputs": [
    {
     "data": {
      "text/plain": [
       "'I have eaten99burritos'"
      ]
     },
     "execution_count": 12,
     "metadata": {},
     "output_type": "execute_result"
    }
   ],
   "source": [
    "# Error: we are unable to concatenate integer to the string directly \n",
    "# Correction: convert integer into string and do the concatenation operation\n",
    "'I have eaten' +  str(99)+ 'burritos'"
   ]
  },
  {
   "cell_type": "code",
   "execution_count": null,
   "id": "a872939c",
   "metadata": {},
   "outputs": [],
   "source": []
  }
 ],
 "metadata": {
  "kernelspec": {
   "display_name": "Python 3 (ipykernel)",
   "language": "python",
   "name": "python3"
  },
  "language_info": {
   "codemirror_mode": {
    "name": "ipython",
    "version": 3
   },
   "file_extension": ".py",
   "mimetype": "text/x-python",
   "name": "python",
   "nbconvert_exporter": "python",
   "pygments_lexer": "ipython3",
   "version": "3.9.13"
  }
 },
 "nbformat": 4,
 "nbformat_minor": 5
}
